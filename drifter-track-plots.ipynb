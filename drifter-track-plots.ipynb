{
 "cells": [
  {
   "cell_type": "markdown",
   "id": "7bb7f8c4",
   "metadata": {},
   "source": [
    "# Computing velocities from positions\n",
    "\n",
    "If you run this notebook on your own computer (recommended), you need:\n",
    "* julia (https://julialang.org/downloads/#official_binaries_for_manual_download)\n",
    "* some julia packages:\n",
    "    * `PythonPlot` (or `PyPlot`, but `PyPlot` is difficult to install on Windows)\n",
    "    * `DelimitedFiles` for reading CSV files\n",
    "    * `DSP` for digital signal processing)\n",
    "    * `NCDatasets` for loading NetCDF files\n",
    "\n",
    "* **If** you are using your own computer, you can install these packages with the following julia commands:\n",
    "\n",
    "```julia\n",
    "using Pkg\n",
    "Pkg.add([\"PythonPlot\", \"DelimitedFiles\", \"DSP\", \"NCDatasets\"])\n",
    "using PythonPlot, DelimitedFiles, DSP, NCDatasets\n",
    "```\n",
    "\n",
    "But the packages need to be installed before the lecture.\n",
    "The steps above are not necessary if you work on the notebook server (https://notebook-gher.uliege.be), **but you need to download your files after each lesson (as they are deleted)**. \n",
    "\n",
    "## Exercice\n",
    "\n",
    "* Compute the drifter velocities from the provided file (drifter number 1).\n",
    "* Remove the part of the data where the drifter was not deployed or when it was stuck at the coast\n",
    "* Smooth the data with a second order Butterworth filter (with a cut-off frequency corresponding to a period of 30 minutes) from the `DSP` package (example code is provided below).\n",
    "* Plot the trajectory and the currents with the coastline and bathymetry (isobath 25 m, 50 m, 75 m, 100 m)\n",
    "  \n",
    "Data files:\n",
    "* Drifter positions: https://dox.ulg.ac.be/index.php/s/A3KkDQYmdNLlabx/download . The data is in the CSV format (comma-separated values) where the columns are the time (in UTC), longitude (degree East) and latitude (degree North).\n",
    "* Bathymetry: https://dox.ulg.ac.be/index.php/s/9ZwWDbsTgCwgS90/download as a NetCDF file.\n",
    "\n",
    "You are explicitly encouraged to consult the documentation of these software packages and to use a search engine."
   ]
  },
  {
   "cell_type": "markdown",
   "id": "0c7e5d16-c2eb-4790-9356-51a5090dc2de",
   "metadata": {},
   "source": [
    "This is the metadata for the deployement from previous students:"
   ]
  },
  {
   "cell_type": "markdown",
   "id": "ee48d1ae-284b-4ba8-892a-e8077bd81392",
   "metadata": {},
   "source": [
    "```\n",
    "Timing drifters le 08 mai: \n",
    "1: 9h12-14h31 \n",
    "2: 9h14-14h37 \n",
    "3: 9h07-14h12 \n",
    "4: 9:11-14h26 \n",
    "5: 9h10-14h20 \n",
    "6: 9h13-14h32 \n",
    "7: 9h14-14h34 \n",
    "8: 9h08-14h12 \n",
    "9: 9h06-14h18 \n",
    "10: 9h09-14h24\n",
    "```"
   ]
  },
  {
   "cell_type": "markdown",
   "id": "3de140f3-91bc-45ee-b344-8ebaf96936d4",
   "metadata": {},
   "source": [
    "The year is 2024 and the times are in local time (UTC-2). The number in the first column is the drifter number."
   ]
  },
  {
   "cell_type": "markdown",
   "id": "0b2b4831-9d83-4216-9cdb-671ce3defeb9",
   "metadata": {},
   "source": [
    "Additional information:\n",
    "* The module `DelimitedFiles` allows you to read CSV formatted files with the command `readdlm`. The command `?readdlm` provides for more information. Use for example `readdlm(filename,',');` of the columns a separated by a comma.\n",
    "* You can convert a string `\"2024-05-08T06:20:15\"` into a `DateTime` structure (from the module `Dates`) by calling `DateTime(\"2024-05-08T06:20:15\")`\n",
    "* You can compute the number of seconds between e.g. `\"2024-05-08T06:23:34\"` and `\"2024-05-08T06:20:15\"` using:\n",
    "```julia\n",
    "using Dates\n",
    "t0 = DateTime(\"2024-05-08T06:20:15\")\n",
    "t1 = DateTime(\"2024-05-08T06:23:34\")\n",
    "time_difference = Dates.value(t1 - t0)/1000 # convert milliseconds to seconds\n",
    "```\n",
    "* The function `plot(lon,lat)` from the module `PythonPlot` allows you to plot the trajectory given by the longitudes `lon` and latitudes `lat`.\n",
    "\n",
    "* You can assume that the Earth is a sphere with a radius of 6371009 m. You will need the Earth Radius to convert an increment in degrees to meters.\n",
    "* The package DSP allow you to apply a 2nd order Butterworth filter. Here is an example using random date `x`. The filtered data is `xf`."
   ]
  },
  {
   "cell_type": "code",
   "execution_count": null,
   "id": "5b85fa25-ff9a-4270-a5f9-1a9aacc31a22",
   "metadata": {},
   "outputs": [],
   "source": [
    "using DSP, PythonPlot\n",
    "# Filter parameters\n",
    "fs = 1/60 # sampling frequency (Hz)\n",
    "# Cut-off frequency (Hz), 30 minutes\n",
    "fc = 1/(30*60)\n",
    "\n",
    "# 2nd order Butterworth filter\n",
    "bfilter = digitalfilter(Lowpass(fc, fs=fs), Butterworth(2))\n",
    "x = randn(200);\n",
    "xf = filtfilt(bfilter, x);\n",
    "plot(x,label=\"original data\")\n",
    "plot(xf,label=\"filtered data\")\n",
    "legend()"
   ]
  },
  {
   "cell_type": "markdown",
   "id": "30ad423c-ee07-468a-8f1c-6e12176070eb",
   "metadata": {},
   "source": [
    "* To download and load the bathymetric data you can use the following code snipped:"
   ]
  },
  {
   "cell_type": "code",
   "execution_count": null,
   "id": "7c6675f5-2c8b-4d38-84a9-860c783d96bf",
   "metadata": {},
   "outputs": [],
   "source": [
    "using NCDatasets\n",
    "using Downloads: download\n",
    "bathname = \"nwcorsica_bathymetry.nc\";\n",
    "\n",
    "if !isfile(bathname)\n",
    "    download(\"https://dox.ulg.ac.be/index.php/s/9ZwWDbsTgCwgS90/download\",bathname)\n",
    "end\n",
    "ds = NCDataset(bathname);\n",
    "# select only the data within a given bounding box\n",
    "dss = NCDatasets.@select(ds, 8.7 <= lon <= 8.75 && 42.554 <= lat <= 42.6039)\n",
    "bat_lon = dss[\"lon\"][:];\n",
    "bat_lat = dss[\"lat\"][:];\n",
    "bat = nomissing(dss[\"bat\"][:,:],NaN);"
   ]
  },
  {
   "cell_type": "markdown",
   "id": "6ef82a95-bac0-46b6-82a2-3018aaa2a344",
   "metadata": {},
   "source": [
    "* Here some useful plotting functions:\n",
    "    * The function `pcolor` (for example `pcolor(bat_lon,bat_lat,bat');`) can be used to visualize the bathymetry\n",
    "    * The function `contour` (for example `contour(bat_lon,bat_lat,-bat',levels = [0],colors=\"k\",linewidths=2)`) can be used to draw the coastlines or `contour(bat_lon,bat_lat,-bat',levels = [25, 50, 75, 100],colors=\"k\",linewidths=0.2); ` to draw the isobaths 25 m, 50 m, 75 m and 100 m \n",
    "    * The function `quiver` (for example `q = quiver(lonf,latf,uf,vf,color=\"b\");`) can be used to draw vectors. The function `quiverkey` adds a legend for quiver (for example `quiverkey(q,0.2,0.9,0.1,label = \"0.1 m/s\")`)\n"
   ]
  },
  {
   "cell_type": "code",
   "execution_count": null,
   "id": "1bd415ee",
   "metadata": {},
   "outputs": [],
   "source": [
    "using PythonPlot\n",
    "using Dates\n",
    "using DelimitedFiles\n",
    "using Statistics\n",
    "using DSP # DSP version 0.7.9\n",
    "using Downloads: download"
   ]
  },
  {
   "cell_type": "markdown",
   "id": "f0ca8498-5c80-494a-aff4-c70f87314392",
   "metadata": {},
   "source": [
    "Download an example CSV file:"
   ]
  },
  {
   "cell_type": "code",
   "execution_count": null,
   "id": "1f2de0a5",
   "metadata": {},
   "outputs": [],
   "source": [
    "filename = \"Drifter01_08-05-2024.txt\"\n",
    "\n",
    "if !isfile(filename)\n",
    "    download(\"https://dox.ulg.ac.be/index.php/s/A3KkDQYmdNLlabx/download\",filename)\n",
    "end"
   ]
  },
  {
   "cell_type": "markdown",
   "id": "2a85588c-bc6c-4556-b24a-70090f2fd04f",
   "metadata": {},
   "source": [
    "The text file is a comma separated value file (CSV) where the columns are longitude, latitude, time. "
   ]
  }
 ],
 "metadata": {
  "kernelspec": {
   "display_name": "Julia 1.10.0",
   "language": "julia",
   "name": "julia-1.10"
  },
  "language_info": {
   "file_extension": ".jl",
   "mimetype": "application/julia",
   "name": "julia",
   "version": "1.10.0"
  }
 },
 "nbformat": 4,
 "nbformat_minor": 5
}
